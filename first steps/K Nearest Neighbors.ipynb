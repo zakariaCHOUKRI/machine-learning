{
 "cells": [
  {
   "cell_type": "code",
   "execution_count": 1,
   "id": "b200ca8b",
   "metadata": {},
   "outputs": [],
   "source": [
    "import numpy as np\n",
    "import matplotlib.pyplot as plt\n",
    "from sklearn.datasets import load_digits\n",
    "from sklearn.neighbors import KNeighborsClassifier"
   ]
  },
  {
   "cell_type": "code",
   "execution_count": 2,
   "id": "ac4aa6ba",
   "metadata": {},
   "outputs": [
    {
     "name": "stdout",
     "output_type": "stream",
     "text": [
      "dimension de X: (1797, 64)\n"
     ]
    }
   ],
   "source": [
    "# importons une base de données de chiffre\n",
    "digits = load_digits()\n",
    "\n",
    "X = digits.data\n",
    "y = digits.target\n",
    "\n",
    "print('dimension de X:', X.shape) "
   ]
  },
  {
   "cell_type": "code",
   "execution_count": 10,
   "id": "c82dde15",
   "metadata": {},
   "outputs": [
    {
     "data": {
      "text/plain": [
       "0.9905397885364496"
      ]
     },
     "execution_count": 10,
     "metadata": {},
     "output_type": "execute_result"
    },
    {
     "data": {
      "image/png": "[encoded data removed]",
      "text/plain": [
       "<Figure size 432x288 with 1 Axes>"
      ]
     },
     "metadata": {
      "needs_background": "light"
     },
     "output_type": "display_data"
    }
   ],
   "source": [
    "# visualisons un de ces chiffres\n",
    "plt.imshow(digits['images'][0], cmap = 'Greys_r')\n",
    "\n",
    "# Entraînement du modele\n",
    "model = KNeighborsClassifier()\n",
    "model.fit(X, y)\n",
    "model.score(X, y) "
   ]
  },
  {
   "cell_type": "code",
   "execution_count": 11,
   "id": "8ef45227",
   "metadata": {},
   "outputs": [
    {
     "data": {
      "text/plain": [
       "array([4])"
      ]
     },
     "execution_count": 11,
     "metadata": {},
     "output_type": "execute_result"
    },
    {
     "data": {
      "image/png": "[encoded data removed]",
      "text/plain": [
       "<Figure size 432x288 with 1 Axes>"
      ]
     },
     "metadata": {
      "needs_background": "light"
     },
     "output_type": "display_data"
    }
   ],
   "source": [
    "#Test du modele\n",
    "test = digits['images'][100].reshape(1, -1)\n",
    "plt.imshow(digits['images'][100], cmap = 'Greys_r')\n",
    "model.predict(test) "
   ]
  },
  {
   "cell_type": "code",
   "execution_count": null,
   "id": "28586948",
   "metadata": {},
   "outputs": [],
   "source": []
  }
 ],
 "metadata": {
  "kernelspec": {
   "display_name": "Python 3 (ipykernel)",
   "language": "python",
   "name": "python3"
  },
  "language_info": {
   "codemirror_mode": {
    "name": "ipython",
    "version": 3
   },
   "file_extension": ".py",
   "mimetype": "text/x-python",
   "name": "python",
   "nbconvert_exporter": "python",
   "pygments_lexer": "ipython3",
   "version": "3.10.5"
  }
 },
 "nbformat": 4,
 "nbformat_minor": 5
}
